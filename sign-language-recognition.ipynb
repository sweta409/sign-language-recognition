{
 "cells": [
  {
   "cell_type": "code",
   "execution_count": null,
   "metadata": {
    "_uuid": "edf73bdd5cc5995b73131d141ea9009e2bee4ad8"
   },
   "outputs": [],
   "source": [
    "\n",
    "from skimage import transform\n",
    "# from skimage import data\n",
    "from skimage import io\n",
    "import matplotlib.pyplot as plt\n",
    "import os\n",
    "import numpy as np\n",
    "from skimage.color import rgb2gray\n",
    "import random\n",
    "import tensorflow as tf\n",
    " "
   ]
  },
  {
   "cell_type": "code",
   "execution_count": null,
   "metadata": {
    "_uuid": "a2e52490105b23471e687ed05d874ac42e2a950c"
   },
   "outputs": [],
   "source": [
    "def load_data(data_directory):\n",
    "    directories = [d for d in os.listdir(data_directory) \n",
    "                   if os.path.isdir(os.path.join(data_directory, d))]\n",
    "    labels = []\n",
    "    images = []\n",
    "    for d in directories:\n",
    "        label_directory = os.path.join(data_directory, d)\n",
    "        file_names = [os.path.join(label_directory, f) for f in os.listdir(label_directory)]\n",
    "        for f in file_names:\n",
    "            # images.append(data.imread(f))\n",
    "            images.append(io.imread(f))\n",
    "            labels.append(ord(d))\n",
    "    return images, labels\n",
    "\n",
    "# ROOT_PATH=\"../input/project\"\n",
    "ROOT_PATH=\"./project\"\n",
    "train_data_directory=os.path.join(ROOT_PATH, \"train\")\n",
    "\n",
    "images, labels=load_data(train_data_directory)"
   ]
  },
  {
   "cell_type": "code",
   "execution_count": null,
   "metadata": {
    "_uuid": "a5111596c4a5b298b75f9c3af6e9ca4bd600ca42"
   },
   "outputs": [],
   "source": [
    "images_array = np.array(images)\n",
    "labels_array = np.array(labels)\n",
    "\n",
    "# Print the number of `images`'s elements\n",
    "print(\"Total number of images:\",images_array.size)\n",
    "# Count the number of labels\n",
    "print(\"Total No of classes:\",len(set(labels_array)))\n",
    "print(\"Label Array: \",[chr(X) for X in set(labels)])"
   ]
  },
  {
   "cell_type": "code",
   "execution_count": null,
   "metadata": {
    "_uuid": "ce74edb175c3e788e084f7759d0182c7a72bad5f"
   },
   "outputs": [],
   "source": [
    "# Determine the (random) indexes of the images that you want to see \n",
    "hand_signs = [12,45,65,35]\n",
    "\n",
    "# Fill out the subplots with the random images that you defined \n",
    "for i in range(len(hand_signs)):\n",
    "    plt.subplot(1, 4, i+1)\n",
    "    plt.axis('off')\n",
    "    plt.imshow(images[hand_signs[i]])\n",
    "    plt.subplots_adjust(wspace=0.5)\n",
    "\n",
    "plt.show()"
   ]
  },
  {
   "cell_type": "code",
   "execution_count": null,
   "metadata": {
    "_uuid": "59d08838e2212116b8d897a0d8a1d0f7392337b7"
   },
   "outputs": [],
   "source": [
    "# Determine the (random) indexes of the images\n",
    "hand_signs = [300, 1250, 2650, 3000]\n",
    "\n",
    "# Fill out the subplots with the random images and add shape, min and max values\n",
    "for i in range(len(hand_signs)):\n",
    "    plt.subplot(1, 4, i+1)\n",
    "    plt.axis('off')\n",
    "    plt.imshow(images[hand_signs[i]])\n",
    "    plt.subplots_adjust(wspace=0.5)\n",
    "    plt.show()\n",
    "    print(\"shape: {0}, min: {1}, max: {2}\".format(images[hand_signs[i]].shape, \n",
    "                                                  images[hand_signs[i]].min(), \n",
    "                                                  images[hand_signs[i]].max()))"
   ]
  },
  {
   "cell_type": "code",
   "execution_count": null,
   "metadata": {
    "_uuid": "4889b845424a2ec1a1f8dece124a25b95e0c471b"
   },
   "outputs": [],
   "source": [
    "# Get the unique labels \n",
    "unique_labels = set(labels)\n",
    "\n",
    "# Initialize the figure\n",
    "plt.figure(figsize=(15, 15))\n",
    "\n",
    "# Set a counter\n",
    "i = 1\n",
    "\n",
    "# For each unique label,\n",
    "for label in unique_labels:\n",
    "    # You pick the first image for each label\n",
    "    image = images[labels.index(label)]\n",
    "    # Define 64 subplots \n",
    "    plt.subplot(8, 8, i)\n",
    "    # Don't include axes\n",
    "    plt.axis('off')\n",
    "    # Add a title to each subplot \n",
    "    plt.title(\"Label {0} ({1})\".format(chr(label), labels.count(label)))\n",
    "    # Add 1 to the counter\n",
    "    i += 1\n",
    "    # And you plot this first image \n",
    "    plt.imshow(image)\n",
    "    \n",
    "# Show the plot\n",
    "plt.show()"
   ]
  },
  {
   "cell_type": "markdown",
   "metadata": {
    "_uuid": "169f344f27a86f7f45e02eb00590a386cdbba222"
   },
   "source": [
    "# Feature Extraction"
   ]
  },
  {
   "cell_type": "code",
   "execution_count": null,
   "metadata": {
    "_uuid": "b8fc021f5daee4e78b9ebde9906337687ddc1001"
   },
   "outputs": [],
   "source": [
    "# Resize images\n",
    "images32 = [transform.resize(image, (28, 28,3)) for image in images]\n",
    "images32 = np.array(images32)"
   ]
  },
  {
   "cell_type": "markdown",
   "metadata": {
    "_uuid": "dcba638eabbaa9d08e545e02884ec05b1749e03a"
   },
   "source": [
    "# Image Conversion to Grayscale"
   ]
  },
  {
   "cell_type": "code",
   "execution_count": null,
   "metadata": {
    "_uuid": "1c01d4099c056b261afaff7ca2407810750c64bf"
   },
   "outputs": [],
   "source": [
    "images32 = rgb2gray(np.array(images32))"
   ]
  },
  {
   "cell_type": "code",
   "execution_count": null,
   "metadata": {
    "_uuid": "84c0b75917f5a8789f9d482b421522812a9d3da4"
   },
   "outputs": [],
   "source": [
    "for i in range(len(hand_signs)):\n",
    "    plt.subplot(1, 4, i+1)\n",
    "    plt.axis('off')\n",
    "    plt.imshow(images32[hand_signs[i]], cmap=\"gray\")\n",
    "    plt.subplots_adjust(wspace=0.5)\n",
    "    \n",
    "plt.show()\n",
    "\n",
    "print(images32.shape)"
   ]
  },
  {
   "cell_type": "markdown",
   "metadata": {
    "_uuid": "f5b94ef4a91319c158b69e07d2e1c919b2454aae"
   },
   "source": [
    "# Model"
   ]
  },
  {
   "cell_type": "code",
   "execution_count": null,
   "metadata": {
    "_uuid": "fcae44cbf83cc66cd2c663eb900981c61b13a5b2"
   },
   "outputs": [],
   "source": [
    "# x = tf.placeholder(dtype = tf.float32, shape = [None, 28, 28])\n",
    "x = tf.placeholder(dtype = tf.float32, shape = [None, 28, 28])\n",
    "# y = tf.placeholder(dtype = tf.int32, shape = [None])\n",
    "y = tf.placeholder(dtype = tf.int32, shape = [None])\n",
    "images_flat = tf.contrib.layers.flatten(x)\n",
    "logits = tf.contrib.layers.fully_connected(images_flat, 100, tf.nn.relu)\n",
    "loss = tf.reduce_mean(tf.nn.sparse_softmax_cross_entropy_with_logits(labels = y, logits = logits))\n",
    "train_op = tf.train.AdamOptimizer(learning_rate=0.001).minimize(loss)\n",
    "correct_pred = tf.argmax(logits, 1)\n",
    "accuracy = tf.reduce_mean(tf.cast(correct_pred, tf.float32))\n",
    "\n",
    "print(\"images_flat: \", images_flat)\n",
    "print(\"logits: \", logits)\n",
    "print(\"loss: \", loss)\n",
    "print(\"predicted_labels: \", correct_pred)"
   ]
  },
  {
   "cell_type": "code",
   "execution_count": null,
   "metadata": {
    "_uuid": "862b1539d00da068480f13564b88e4c33dda2305",
    "collapsed": true
   },
   "outputs": [
    {
     "ename": "NameError",
     "evalue": "name 'tf' is not defined",
     "output_type": "error",
     "traceback": [
      "\u001b[1;31m---------------------------------------------------------------------------\u001b[0m",
      "\u001b[1;31mNameError\u001b[0m                                 Traceback (most recent call last)",
      "\u001b[1;32mc:\\Users\\Dell\\Desktop\\PP_Final\\sign-language-recognition.ipynb Cell 14'\u001b[0m in \u001b[0;36m<cell line: 1>\u001b[1;34m()\u001b[0m\n\u001b[1;32m----> <a href='vscode-notebook-cell:/c%3A/Users/Dell/Desktop/PP_Final/sign-language-recognition.ipynb#ch0000013?line=0'>1</a>\u001b[0m sess \u001b[39m=\u001b[39m tf\u001b[39m.\u001b[39mSession()\n\u001b[0;32m      <a href='vscode-notebook-cell:/c%3A/Users/Dell/Desktop/PP_Final/sign-language-recognition.ipynb#ch0000013?line=2'>3</a>\u001b[0m sess\u001b[39m.\u001b[39mrun(tf\u001b[39m.\u001b[39mglobal_variables_initializer())\n\u001b[0;32m      <a href='vscode-notebook-cell:/c%3A/Users/Dell/Desktop/PP_Final/sign-language-recognition.ipynb#ch0000013?line=4'>5</a>\u001b[0m \u001b[39mfor\u001b[39;00m i \u001b[39min\u001b[39;00m \u001b[39mrange\u001b[39m(\u001b[39m201\u001b[39m):\n",
      "\u001b[1;31mNameError\u001b[0m: name 'tf' is not defined"
     ]
    }
   ],
   "source": [
    "sess = tf.Session()\n",
    "\n",
    "sess.run(tf.global_variables_initializer())\n",
    "\n",
    "for i in range(201):\n",
    "        print('EPOCH', i)\n",
    "        _, accuracy_val = sess.run([train_op, accuracy], feed_dict={x: images32, y: labels})\n",
    "        if i % 10 == 0:\n",
    "            print(\"Loss: \", loss)\n",
    "        print('DONE WITH EPOCH')"
   ]
  },
  {
   "cell_type": "markdown",
   "metadata": {
    "_uuid": "1c0b468794802a2b5acbd8f93a6c974e80052289"
   },
   "source": [
    "# Evaluation"
   ]
  },
  {
   "cell_type": "code",
   "execution_count": 60,
   "metadata": {
    "_uuid": "5efdc43b9a16979141ce039d09545bb0aee993bd",
    "collapsed": true
   },
   "outputs": [
    {
     "ename": "NameError",
     "evalue": "name 'sess' is not defined",
     "output_type": "error",
     "traceback": [
      "\u001b[1;31m---------------------------------------------------------------------------\u001b[0m",
      "\u001b[1;31mNameError\u001b[0m                                 Traceback (most recent call last)",
      "\u001b[1;32mc:\\Users\\Dell\\Desktop\\PP_Final\\sign-language-recognition.ipynb Cell 16'\u001b[0m in \u001b[0;36m<cell line: 7>\u001b[1;34m()\u001b[0m\n\u001b[0;32m      <a href='vscode-notebook-cell:/c%3A/Users/Dell/Desktop/PP_Final/sign-language-recognition.ipynb#ch0000015?line=3'>4</a>\u001b[0m sample_labels \u001b[39m=\u001b[39m [labels[i] \u001b[39mfor\u001b[39;00m i \u001b[39min\u001b[39;00m sample_indexes]\n\u001b[0;32m      <a href='vscode-notebook-cell:/c%3A/Users/Dell/Desktop/PP_Final/sign-language-recognition.ipynb#ch0000015?line=5'>6</a>\u001b[0m \u001b[39m# Run the \"predicted_labels\" op.\u001b[39;00m\n\u001b[1;32m----> <a href='vscode-notebook-cell:/c%3A/Users/Dell/Desktop/PP_Final/sign-language-recognition.ipynb#ch0000015?line=6'>7</a>\u001b[0m predicted \u001b[39m=\u001b[39m sess\u001b[39m.\u001b[39mrun([correct_pred], feed_dict\u001b[39m=\u001b[39m{x: sample_images})[\u001b[39m0\u001b[39m]\n\u001b[0;32m      <a href='vscode-notebook-cell:/c%3A/Users/Dell/Desktop/PP_Final/sign-language-recognition.ipynb#ch0000015?line=8'>9</a>\u001b[0m \u001b[39m# Print the real and predicted labels\u001b[39;00m\n\u001b[0;32m     <a href='vscode-notebook-cell:/c%3A/Users/Dell/Desktop/PP_Final/sign-language-recognition.ipynb#ch0000015?line=9'>10</a>\u001b[0m \u001b[39mprint\u001b[39m(sample_labels)\n",
      "\u001b[1;31mNameError\u001b[0m: name 'sess' is not defined"
     ]
    }
   ],
   "source": [
    "# Pick 10 random images\n",
    "sample_indexes = random.sample(range(len(images32)), 10)\n",
    "sample_images = [images32[i] for i in sample_indexes]\n",
    "sample_labels = [labels[i] for i in sample_indexes]\n",
    "\n",
    "# Run the \"predicted_labels\" op.\n",
    "predicted = sess.run([correct_pred], feed_dict={x: sample_images})[0]\n",
    "                        \n",
    "# Print the real and predicted labels\n",
    "print(sample_labels)\n",
    "print(predicted)"
   ]
  },
  {
   "cell_type": "code",
   "execution_count": 64,
   "metadata": {
    "_uuid": "769c6ba77fedc0c1ce48088fad9199922238eed0",
    "collapsed": true
   },
   "outputs": [
    {
     "ename": "NameError",
     "evalue": "name 'predicted' is not defined",
     "output_type": "error",
     "traceback": [
      "\u001b[1;31m---------------------------------------------------------------------------\u001b[0m",
      "\u001b[1;31mNameError\u001b[0m                                 Traceback (most recent call last)",
      "\u001b[1;32mc:\\Users\\Dell\\Desktop\\PP_Final\\sign-language-recognition.ipynb Cell 17'\u001b[0m in \u001b[0;36m<cell line: 3>\u001b[1;34m()\u001b[0m\n\u001b[0;32m      <a href='vscode-notebook-cell:/c%3A/Users/Dell/Desktop/PP_Final/sign-language-recognition.ipynb#ch0000016?line=2'>3</a>\u001b[0m \u001b[39mfor\u001b[39;00m i \u001b[39min\u001b[39;00m \u001b[39mrange\u001b[39m(\u001b[39mlen\u001b[39m(sample_images)):\n\u001b[0;32m      <a href='vscode-notebook-cell:/c%3A/Users/Dell/Desktop/PP_Final/sign-language-recognition.ipynb#ch0000016?line=3'>4</a>\u001b[0m     truth \u001b[39m=\u001b[39m sample_labels[i]\n\u001b[1;32m----> <a href='vscode-notebook-cell:/c%3A/Users/Dell/Desktop/PP_Final/sign-language-recognition.ipynb#ch0000016?line=4'>5</a>\u001b[0m     prediction \u001b[39m=\u001b[39m predicted[i]\n\u001b[0;32m      <a href='vscode-notebook-cell:/c%3A/Users/Dell/Desktop/PP_Final/sign-language-recognition.ipynb#ch0000016?line=5'>6</a>\u001b[0m     plt\u001b[39m.\u001b[39msubplot(\u001b[39m5\u001b[39m, \u001b[39m2\u001b[39m,\u001b[39m1\u001b[39m\u001b[39m+\u001b[39mi)\n\u001b[0;32m      <a href='vscode-notebook-cell:/c%3A/Users/Dell/Desktop/PP_Final/sign-language-recognition.ipynb#ch0000016?line=6'>7</a>\u001b[0m     plt\u001b[39m.\u001b[39maxis(\u001b[39m'\u001b[39m\u001b[39moff\u001b[39m\u001b[39m'\u001b[39m)\n",
      "\u001b[1;31mNameError\u001b[0m: name 'predicted' is not defined"
     ]
    },
    {
     "data": {
      "text/plain": [
       "<Figure size 720x720 with 0 Axes>"
      ]
     },
     "metadata": {},
     "output_type": "display_data"
    }
   ],
   "source": [
    "# Display the predictions and the ground truth visually.\n",
    "fig = plt.figure(figsize=(10, 10))\n",
    "for i in range(len(sample_images)):\n",
    "    truth = sample_labels[i]\n",
    "    prediction = predicted[i]\n",
    "    plt.subplot(5, 2,1+i)\n",
    "    plt.axis('off')\n",
    "    color='green' if truth == prediction else 'red'\n",
    "    plt.text(40, 10, \"Truth:        {0}\\nPrediction: {1}\".format(chr(truth), chr(prediction)), \n",
    "             fontsize=12, color=color)\n",
    "    plt.imshow(sample_images[i],cmap='gray')\n",
    "\n",
    "plt.show()"
   ]
  },
  {
   "cell_type": "code",
   "execution_count": 63,
   "metadata": {
    "_uuid": "58805f1f863e72e09cc7ce93de9d1973767dfc30",
    "collapsed": true
   },
   "outputs": [
    {
     "ename": "NameError",
     "evalue": "name 'sess' is not defined",
     "output_type": "error",
     "traceback": [
      "\u001b[1;31m---------------------------------------------------------------------------\u001b[0m",
      "\u001b[1;31mNameError\u001b[0m                                 Traceback (most recent call last)",
      "\u001b[1;32mc:\\Users\\Dell\\Desktop\\PP_Final\\sign-language-recognition.ipynb Cell 18'\u001b[0m in \u001b[0;36m<cell line: 1>\u001b[1;34m()\u001b[0m\n\u001b[1;32m----> <a href='vscode-notebook-cell:/c%3A/Users/Dell/Desktop/PP_Final/sign-language-recognition.ipynb#ch0000019?line=0'>1</a>\u001b[0m sess\u001b[39m.\u001b[39mclose()\n",
      "\u001b[1;31mNameError\u001b[0m: name 'sess' is not defined"
     ]
    }
   ],
   "source": [
    "sess.close()"
   ]
  },
  {
   "cell_type": "code",
   "execution_count": null,
   "metadata": {
    "_uuid": "53d254cd0127adccef15212fc860822254b96f13",
    "collapsed": true
   },
   "outputs": [],
   "source": []
  },
  {
   "cell_type": "code",
   "execution_count": null,
   "metadata": {
    "_uuid": "c820f466526c1dfbf8f6e122b3e021fe1041e48e",
    "collapsed": true
   },
   "outputs": [],
   "source": []
  },
  {
   "cell_type": "code",
   "execution_count": null,
   "metadata": {
    "_uuid": "7bd2b7177889e7fa894262a28a02d6a1f41c178a",
    "collapsed": true
   },
   "outputs": [],
   "source": []
  },
  {
   "cell_type": "code",
   "execution_count": null,
   "metadata": {
    "_uuid": "7a03bae32685e7f8a0ebdbc4faf61ae5cf1a7d52",
    "collapsed": true
   },
   "outputs": [],
   "source": []
  },
  {
   "cell_type": "code",
   "execution_count": null,
   "metadata": {
    "_uuid": "3bd254ef149459ba64ba77fcbf8642b376596238",
    "collapsed": true
   },
   "outputs": [],
   "source": []
  },
  {
   "cell_type": "code",
   "execution_count": null,
   "metadata": {
    "_uuid": "cf450018ce2d869346975d3b6b285cad8f87a5b1",
    "collapsed": true
   },
   "outputs": [],
   "source": []
  },
  {
   "cell_type": "code",
   "execution_count": null,
   "metadata": {
    "_uuid": "7858dc9f81744d8244d5ff3ce822e24962348035",
    "collapsed": true
   },
   "outputs": [],
   "source": []
  }
 ],
 "metadata": {
  "interpreter": {
   "hash": "b252d7cd785b71e172da3ea3f9bb583c7f237978e37e2489541bd05394a3564b"
  },
  "kernelspec": {
   "display_name": "Python 3 (ipykernel)",
   "language": "python",
   "name": "python3"
  },
  "language_info": {
   "codemirror_mode": {
    "name": "ipython",
    "version": 3
   },
   "file_extension": ".py",
   "mimetype": "text/x-python",
   "name": "python",
   "nbconvert_exporter": "python",
   "pygments_lexer": "ipython3",
   "version": "3.9.12"
  }
 },
 "nbformat": 4,
 "nbformat_minor": 1
}
